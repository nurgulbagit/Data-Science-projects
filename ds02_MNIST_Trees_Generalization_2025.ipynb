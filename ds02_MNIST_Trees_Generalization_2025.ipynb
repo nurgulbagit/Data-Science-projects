{
  "nbformat": 4,
  "nbformat_minor": 0,
  "metadata": {
    "colab": {
      "provenance": [],
      "include_colab_link": true
    },
    "kernelspec": {
      "name": "python3",
      "display_name": "Python 3"
    },
    "language_info": {
      "name": "python"
    }
  },
  "cells": [
    {
      "cell_type": "markdown",
      "metadata": {
        "id": "view-in-github",
        "colab_type": "text"
      },
      "source": [
        "<a href=\"https://colab.research.google.com/github/nurgulbagit/Data-Science-projects/blob/main/ds02_MNIST_Trees_Generalization_2025.ipynb\" target=\"_parent\"><img src=\"https://colab.research.google.com/assets/colab-badge.svg\" alt=\"Open In Colab\"/></a>"
      ]
    },
    {
      "cell_type": "markdown",
      "source": [
        "# The Goal of this Notebook\n",
        "* Introduction to Training Error, Testing Error and Generalization\n",
        "* Intro to decision trees\n",
        "* Intro to the MNIST data set\n",
        "* Miscellaneous: some numpy commands, some visualization commands."
      ],
      "metadata": {
        "id": "A_YMk6GaDV6Y"
      }
    },
    {
      "cell_type": "code",
      "execution_count": null,
      "metadata": {
        "id": "YwUQBhwyDNjU"
      },
      "outputs": [],
      "source": [
        "import time\n",
        "import matplotlib.pyplot as plt\n",
        "import numpy as np\n",
        "from sklearn import tree\n",
        "from sklearn.datasets import fetch_openml\n",
        "from sklearn.model_selection import train_test_split\n",
        "from sklearn.preprocessing import StandardScaler\n",
        "from sklearn.utils import check_random_state\n",
        "from torchvision import datasets, transforms\n"
      ]
    },
    {
      "cell_type": "markdown",
      "source": [
        "We load the data set. This command loads it as a torch tensor.\n",
        "We then convert it to a numpy array."
      ],
      "metadata": {
        "id": "HxRZPECzDibJ"
      }
    },
    {
      "cell_type": "code",
      "source": [
        "import numpy as np\n",
        "from torchvision import datasets, transforms\n",
        "\n",
        "# Custom transform to convert tensor to numpy array and remove channel dimension\n",
        "class ToNumpyNoChannel:\n",
        "    def __call__(self, tensor):\n",
        "        return tensor.squeeze(0).numpy()  # Remove channel dimension (C, H, W -> H, W)\n",
        "\n",
        "# Define the transformation pipeline\n",
        "transform = transforms.Compose([\n",
        "    transforms.ToTensor(),  # Converts PIL image to PyTorch tensor\n",
        "    transforms.Normalize(mean=(0.5,), std=(0.5,)),  # Normalize to [-1, 1]\n",
        "    ToNumpyNoChannel()  # Convert tensor to numpy array and remove channel dimension\n",
        "])\n",
        "\n",
        "# Load datasets\n",
        "train_dataset = datasets.MNIST(root='./data', train=True, download=True, transform=transform)\n",
        "test_dataset = datasets.MNIST(root='./data', train=False, download=True, transform=transform)\n",
        "\n",
        "# Access data and labels as NumPy arrays\n",
        "X_train = np.array([train_dataset[i][0] for i in range(len(train_dataset))])  # Features\n",
        "y_train = np.array([train_dataset[i][1] for i in range(len(train_dataset))])  # Labels\n",
        "X_test = np.array([test_dataset[i][0] for i in range(len(test_dataset))])    # Features\n",
        "y_test = np.array([test_dataset[i][1] for i in range(len(test_dataset))])    # Labels\n",
        "\n"
      ],
      "metadata": {
        "id": "2-7GixMCDcqS",
        "colab": {
          "base_uri": "https://localhost:8080/"
        },
        "outputId": "a4d2e1d3-156b-40dc-bd50-ac2a6fef1665"
      },
      "execution_count": null,
      "outputs": [
        {
          "output_type": "stream",
          "name": "stdout",
          "text": [
            "Downloading http://yann.lecun.com/exdb/mnist/train-images-idx3-ubyte.gz\n",
            "Failed to download (trying next):\n",
            "HTTP Error 404: Not Found\n",
            "\n",
            "Downloading https://ossci-datasets.s3.amazonaws.com/mnist/train-images-idx3-ubyte.gz\n",
            "Downloading https://ossci-datasets.s3.amazonaws.com/mnist/train-images-idx3-ubyte.gz to ./data/MNIST/raw/train-images-idx3-ubyte.gz\n"
          ]
        },
        {
          "output_type": "stream",
          "name": "stderr",
          "text": [
            "100%|██████████| 9.91M/9.91M [00:00<00:00, 15.3MB/s]\n"
          ]
        },
        {
          "output_type": "stream",
          "name": "stdout",
          "text": [
            "Extracting ./data/MNIST/raw/train-images-idx3-ubyte.gz to ./data/MNIST/raw\n",
            "\n",
            "Downloading http://yann.lecun.com/exdb/mnist/train-labels-idx1-ubyte.gz\n",
            "Failed to download (trying next):\n",
            "HTTP Error 404: Not Found\n",
            "\n",
            "Downloading https://ossci-datasets.s3.amazonaws.com/mnist/train-labels-idx1-ubyte.gz\n",
            "Downloading https://ossci-datasets.s3.amazonaws.com/mnist/train-labels-idx1-ubyte.gz to ./data/MNIST/raw/train-labels-idx1-ubyte.gz\n"
          ]
        },
        {
          "output_type": "stream",
          "name": "stderr",
          "text": [
            "100%|██████████| 28.9k/28.9k [00:00<00:00, 458kB/s]\n"
          ]
        },
        {
          "output_type": "stream",
          "name": "stdout",
          "text": [
            "Extracting ./data/MNIST/raw/train-labels-idx1-ubyte.gz to ./data/MNIST/raw\n",
            "\n",
            "Downloading http://yann.lecun.com/exdb/mnist/t10k-images-idx3-ubyte.gz\n",
            "Failed to download (trying next):\n",
            "HTTP Error 404: Not Found\n",
            "\n",
            "Downloading https://ossci-datasets.s3.amazonaws.com/mnist/t10k-images-idx3-ubyte.gz\n",
            "Downloading https://ossci-datasets.s3.amazonaws.com/mnist/t10k-images-idx3-ubyte.gz to ./data/MNIST/raw/t10k-images-idx3-ubyte.gz\n"
          ]
        },
        {
          "output_type": "stream",
          "name": "stderr",
          "text": [
            "100%|██████████| 1.65M/1.65M [00:00<00:00, 4.29MB/s]\n"
          ]
        },
        {
          "output_type": "stream",
          "name": "stdout",
          "text": [
            "Extracting ./data/MNIST/raw/t10k-images-idx3-ubyte.gz to ./data/MNIST/raw\n",
            "\n",
            "Downloading http://yann.lecun.com/exdb/mnist/t10k-labels-idx1-ubyte.gz\n",
            "Failed to download (trying next):\n",
            "HTTP Error 404: Not Found\n",
            "\n",
            "Downloading https://ossci-datasets.s3.amazonaws.com/mnist/t10k-labels-idx1-ubyte.gz\n",
            "Downloading https://ossci-datasets.s3.amazonaws.com/mnist/t10k-labels-idx1-ubyte.gz to ./data/MNIST/raw/t10k-labels-idx1-ubyte.gz\n"
          ]
        },
        {
          "output_type": "stream",
          "name": "stderr",
          "text": [
            "100%|██████████| 4.54k/4.54k [00:00<00:00, 4.79MB/s]\n"
          ]
        },
        {
          "output_type": "stream",
          "name": "stdout",
          "text": [
            "Extracting ./data/MNIST/raw/t10k-labels-idx1-ubyte.gz to ./data/MNIST/raw\n",
            "\n"
          ]
        }
      ]
    },
    {
      "cell_type": "code",
      "source": [
        "\"\"\"\n",
        "Now we do a random permutation of the data. This is often a good idea,\n",
        "especially when we don't know how the data were created. For example, maybe\n",
        "the digits were all given in order.\n",
        "\"\"\"\n",
        "\n",
        "t0 = time.time()\n",
        "random_state = check_random_state(0)\n",
        "permutation = random_state.permutation(X_train.shape[0])\n",
        "X_train = X_train[permutation]\n",
        "y_train = y_train[permutation]\n",
        "permutation = random_state.permutation(X_test.shape[0])\n",
        "X_test = X_test[permutation]\n",
        "y_test = y_test[permutation]\n"
      ],
      "metadata": {
        "id": "gd1pMg6IDoz8"
      },
      "execution_count": null,
      "outputs": []
    },
    {
      "cell_type": "markdown",
      "source": [
        "Basic rule: always look at your data."
      ],
      "metadata": {
        "id": "elbS2IlDFAK4"
      }
    },
    {
      "cell_type": "code",
      "source": [
        "print(f\"Shape of X_train: {X_train.shape}\")\n",
        "print(f\"Shape of y_train: {y_train.shape}\")\n",
        "print(f\"Shape of X_test: {X_test.shape}\")\n",
        "print(f\"Shape of y_test: {y_test.shape}\")"
      ],
      "metadata": {
        "colab": {
          "base_uri": "https://localhost:8080/"
        },
        "id": "_oClbe7fyiGw",
        "outputId": "69681fd2-6272-4dab-e292-47985517b4cf"
      },
      "execution_count": null,
      "outputs": [
        {
          "output_type": "stream",
          "name": "stdout",
          "text": [
            "Shape of X_train: (60000, 28, 28)\n",
            "Shape of y_train: (60000,)\n",
            "Shape of X_test: (10000, 28, 28)\n",
            "Shape of y_test: (10000,)\n"
          ]
        }
      ]
    },
    {
      "cell_type": "code",
      "source": [
        "y_train"
      ],
      "metadata": {
        "colab": {
          "base_uri": "https://localhost:8080/"
        },
        "id": "8wQIvpwGyu68",
        "outputId": "d42116da-9d67-4be8-9414-f7997c3bfb42"
      },
      "execution_count": null,
      "outputs": [
        {
          "output_type": "execute_result",
          "data": {
            "text/plain": [
              "array([3, 6, 6, ..., 7, 1, 4])"
            ]
          },
          "metadata": {},
          "execution_count": 12
        }
      ]
    },
    {
      "cell_type": "code",
      "source": [
        "# How many times does each label appear in y_train and y_test\n",
        "\n",
        "for i in range(10):\n",
        "  c = str(i)\n",
        "  ylist = y_train.tolist()\n",
        "  num = ylist.count(c)\n",
        "  print('The digit ', i, 'appears ', num, 'times')"
      ],
      "metadata": {
        "colab": {
          "base_uri": "https://localhost:8080/"
        },
        "id": "zLQmtuQ3Uwm6",
        "outputId": "40779084-09a3-4e21-9f68-a297b9142f55"
      },
      "execution_count": null,
      "outputs": [
        {
          "output_type": "stream",
          "name": "stdout",
          "text": [
            "The digit  0 appears  0 times\n",
            "The digit  1 appears  0 times\n",
            "The digit  2 appears  0 times\n",
            "The digit  3 appears  0 times\n",
            "The digit  4 appears  0 times\n",
            "The digit  5 appears  0 times\n",
            "The digit  6 appears  0 times\n",
            "The digit  7 appears  0 times\n",
            "The digit  8 appears  0 times\n",
            "The digit  9 appears  0 times\n"
          ]
        }
      ]
    },
    {
      "cell_type": "code",
      "source": [
        "# Let's try again using some numpy commands\n",
        "\n",
        "# occurrences of each digit in y_train\n",
        "unique_digits, counts = np.unique(y_train, return_counts=True)\n",
        "\n",
        "# results\n",
        "for digit, count in zip(unique_digits, counts):\n",
        "    print(f\"Digit {digit}: {count} occurrences\")"
      ],
      "metadata": {
        "colab": {
          "base_uri": "https://localhost:8080/"
        },
        "id": "GZxn4XKky2cD",
        "outputId": "1c67c912-3026-4e57-fffa-9dc82b2a0b87"
      },
      "execution_count": null,
      "outputs": [
        {
          "output_type": "stream",
          "name": "stdout",
          "text": [
            "Digit 0: 5923 occurrences\n",
            "Digit 1: 6742 occurrences\n",
            "Digit 2: 5958 occurrences\n",
            "Digit 3: 6131 occurrences\n",
            "Digit 4: 5842 occurrences\n",
            "Digit 5: 5421 occurrences\n",
            "Digit 6: 5918 occurrences\n",
            "Digit 7: 6265 occurrences\n",
            "Digit 8: 5851 occurrences\n",
            "Digit 9: 5949 occurrences\n"
          ]
        }
      ]
    },
    {
      "cell_type": "code",
      "source": [
        "# Now let's have a look at some element of X and the corresponding element of y\n",
        "print('The label is', y_train[0])\n",
        "print('The feature vector is', X_train[0])"
      ],
      "metadata": {
        "colab": {
          "base_uri": "https://localhost:8080/"
        },
        "id": "zaRrRM7FFGll",
        "outputId": "0a9fd9e8-9695-4d1f-8643-3db99d4fafb1"
      },
      "execution_count": null,
      "outputs": [
        {
          "output_type": "stream",
          "name": "stdout",
          "text": [
            "The label is 3\n",
            "The feature vector is [[-1.         -1.         -1.         -1.         -1.         -1.\n",
            "  -1.         -1.         -1.         -1.         -1.         -1.\n",
            "  -1.         -1.         -1.         -1.         -1.         -1.\n",
            "  -1.         -1.         -1.         -1.         -1.         -1.\n",
            "  -1.         -1.         -1.         -1.        ]\n",
            " [-1.         -1.         -1.         -1.         -1.         -1.\n",
            "  -1.         -1.         -1.         -1.         -1.         -1.\n",
            "  -1.         -1.         -1.         -1.         -1.         -1.\n",
            "  -1.         -1.         -1.         -1.         -1.         -1.\n",
            "  -1.         -1.         -1.         -1.        ]\n",
            " [-1.         -1.         -1.         -1.         -1.         -1.\n",
            "  -1.         -1.         -1.         -1.         -1.         -1.\n",
            "  -1.         -1.         -1.         -1.         -1.         -1.\n",
            "  -1.         -1.         -1.         -1.         -1.         -1.\n",
            "  -1.         -1.         -1.         -1.        ]\n",
            " [-1.         -1.         -1.         -1.         -1.         -1.\n",
            "  -1.         -1.         -1.         -1.         -1.         -1.\n",
            "  -1.         -1.         -1.         -1.         -1.         -1.\n",
            "  -1.         -1.         -1.         -1.         -1.         -1.\n",
            "  -1.         -1.         -1.         -1.        ]\n",
            " [-1.         -1.         -1.         -1.         -1.         -1.\n",
            "  -1.         -1.         -1.         -1.         -1.         -0.32549018\n",
            "   0.81960785  0.2313726  -0.41960782 -1.         -1.         -1.\n",
            "  -1.         -1.         -1.         -1.         -1.         -1.\n",
            "  -1.         -1.         -1.         -1.        ]\n",
            " [-1.         -1.         -1.         -1.         -1.         -1.\n",
            "  -1.         -1.         -1.         -1.         -1.         -0.24705881\n",
            "   0.9137255   0.99215686  0.99215686  0.4666667  -0.8039216  -1.\n",
            "  -1.         -1.         -1.         -1.         -1.         -1.\n",
            "  -1.         -1.         -1.         -1.        ]\n",
            " [-1.         -1.         -1.         -1.         -1.         -1.\n",
            "  -1.         -1.         -1.         -1.         -1.         -1.\n",
            "  -1.          0.15294123  0.8980392   0.99215686  0.9529412  -0.36470586\n",
            "  -1.         -1.         -1.         -1.         -1.         -1.\n",
            "  -1.         -1.         -1.         -1.        ]\n",
            " [-1.         -1.         -1.         -1.         -1.         -1.\n",
            "  -1.         -1.         -1.         -1.         -1.         -1.\n",
            "  -1.         -1.         -0.7647059   0.23921573  0.96862745  0.92156863\n",
            "  -0.42745095 -1.         -1.         -1.         -1.         -1.\n",
            "  -1.         -1.         -1.         -1.        ]\n",
            " [-1.         -1.         -1.         -1.         -1.         -1.\n",
            "  -1.         -1.         -1.         -1.         -1.         -1.\n",
            "  -1.         -1.         -1.         -1.          0.6862745   0.99215686\n",
            "   0.01176476 -1.         -1.         -1.         -1.         -1.\n",
            "  -1.         -1.         -1.         -1.        ]\n",
            " [-1.         -1.         -1.         -1.         -1.         -1.\n",
            "  -1.         -1.         -1.         -1.         -1.         -1.\n",
            "  -1.         -1.         -1.         -1.          0.6862745   0.99215686\n",
            "   0.01176476 -1.         -1.         -1.         -1.         -1.\n",
            "  -1.         -1.         -1.         -1.        ]\n",
            " [-1.         -1.         -1.         -1.         -1.         -1.\n",
            "  -1.         -1.         -1.         -1.         -1.         -1.\n",
            "  -1.         -1.         -0.9843137   0.16078436  0.9137255   0.8117647\n",
            "  -0.6313726  -1.         -1.         -1.         -1.         -1.\n",
            "  -1.         -1.         -1.         -1.        ]\n",
            " [-1.         -1.         -1.         -1.         -1.         -1.\n",
            "  -1.         -1.         -1.         -1.         -1.         -1.\n",
            "  -0.8745098  -0.21568626  0.73333335  0.99215686  0.8039216  -0.654902\n",
            "  -1.         -1.         -1.         -1.         -1.         -1.\n",
            "  -1.         -1.         -1.         -1.        ]\n",
            " [-1.         -1.         -1.         -1.         -1.         -1.\n",
            "  -1.         -1.         -1.         -0.6156863   0.3176471   0.09803927\n",
            "   0.52156866  0.99215686  0.99215686  0.52156866 -0.62352943 -1.\n",
            "  -1.         -1.         -1.         -1.         -1.         -1.\n",
            "  -1.         -1.         -1.         -1.        ]\n",
            " [-1.         -1.         -1.         -1.         -1.         -1.\n",
            "  -1.         -1.         -1.          0.6392157   0.99215686  0.99215686\n",
            "   0.99215686  0.99215686  0.9607843  -0.9843137  -1.         -1.\n",
            "  -1.         -1.         -1.         -1.         -1.         -1.\n",
            "  -1.         -1.         -1.         -1.        ]\n",
            " [-1.         -1.         -1.         -1.         -1.         -1.\n",
            "  -1.         -1.         -1.         -0.79607844 -0.03529412  0.1686275\n",
            "   0.4666667   0.9764706   0.99215686  0.427451   -0.8666667  -1.\n",
            "  -1.         -1.         -1.         -1.         -1.         -1.\n",
            "  -1.         -1.         -1.         -1.        ]\n",
            " [-1.         -1.         -1.         -1.         -1.         -1.\n",
            "  -1.         -1.         -1.         -1.         -1.         -1.\n",
            "  -1.         -0.40392154  0.90588236  0.99215686  0.32549024 -0.84313726\n",
            "  -1.         -1.         -1.         -1.         -1.         -1.\n",
            "  -1.         -1.         -1.         -1.        ]\n",
            " [-1.         -1.         -1.         -1.         -1.         -1.\n",
            "  -1.         -1.         -1.         -1.         -1.         -1.\n",
            "  -1.         -1.         -0.40392154  0.99215686  0.99215686 -0.3333333\n",
            "  -1.         -1.         -1.         -1.         -1.         -1.\n",
            "  -1.         -1.         -1.         -1.        ]\n",
            " [-1.         -1.         -1.         -1.         -1.         -1.\n",
            "  -1.         -1.         -1.         -1.         -1.         -1.\n",
            "  -1.         -1.         -0.9843137   0.28627455  0.99215686  0.33333337\n",
            "  -0.92941177 -1.         -1.         -1.         -1.         -1.\n",
            "  -1.         -1.         -1.         -1.        ]\n",
            " [-1.         -1.         -1.         -1.         -1.         -1.\n",
            "  -1.         -1.         -1.         -1.         -1.         -1.\n",
            "  -1.         -1.         -1.         -0.75686276  0.84313726  0.99215686\n",
            "  -0.38039213 -1.         -1.         -1.         -1.         -1.\n",
            "  -1.         -1.         -1.         -1.        ]\n",
            " [-1.         -1.         -1.         -1.         -1.         -1.\n",
            "  -1.         -1.         -1.         -1.         -1.         -1.\n",
            "  -1.         -1.         -1.         -0.8509804   0.7882353   0.99215686\n",
            "  -0.5372549  -1.         -1.         -1.         -1.         -1.\n",
            "  -1.         -1.         -1.         -1.        ]\n",
            " [-1.         -1.         -1.         -1.         -1.         -1.\n",
            "  -1.         -1.         -1.         -1.         -0.79607844 -0.9843137\n",
            "  -1.         -1.         -0.99215686 -0.00392157  0.99215686  0.5921569\n",
            "  -0.8901961  -1.         -1.         -1.         -1.         -1.\n",
            "  -1.         -1.         -1.         -1.        ]\n",
            " [-1.         -1.         -1.         -1.         -1.         -1.\n",
            "  -1.         -1.         -1.         -1.          0.45098042 -0.29411763\n",
            "  -1.         -0.85882354  0.34901965  0.99215686  0.9529412  -0.5686275\n",
            "  -1.         -1.         -1.         -1.         -1.         -1.\n",
            "  -1.         -1.         -1.         -1.        ]\n",
            " [-1.         -1.         -1.         -1.         -1.         -1.\n",
            "  -1.         -1.         -1.         -1.          0.45098042  0.9607843\n",
            "   0.92156863  0.9372549   0.99215686  0.9137255  -0.38039213 -1.\n",
            "  -1.         -1.         -1.         -1.         -1.         -1.\n",
            "  -1.         -1.         -1.         -1.        ]\n",
            " [-1.         -1.         -1.         -1.         -1.         -1.\n",
            "  -1.         -1.         -1.         -1.         -0.11372548  0.6392157\n",
            "   0.99215686  0.99215686  0.3411765  -0.67058825 -1.         -1.\n",
            "  -1.         -1.         -1.         -1.         -1.         -1.\n",
            "  -1.         -1.         -1.         -1.        ]\n",
            " [-1.         -1.         -1.         -1.         -1.         -1.\n",
            "  -1.         -1.         -1.         -1.         -1.         -1.\n",
            "  -1.         -1.         -1.         -1.         -1.         -1.\n",
            "  -1.         -1.         -1.         -1.         -1.         -1.\n",
            "  -1.         -1.         -1.         -1.        ]\n",
            " [-1.         -1.         -1.         -1.         -1.         -1.\n",
            "  -1.         -1.         -1.         -1.         -1.         -1.\n",
            "  -1.         -1.         -1.         -1.         -1.         -1.\n",
            "  -1.         -1.         -1.         -1.         -1.         -1.\n",
            "  -1.         -1.         -1.         -1.        ]\n",
            " [-1.         -1.         -1.         -1.         -1.         -1.\n",
            "  -1.         -1.         -1.         -1.         -1.         -1.\n",
            "  -1.         -1.         -1.         -1.         -1.         -1.\n",
            "  -1.         -1.         -1.         -1.         -1.         -1.\n",
            "  -1.         -1.         -1.         -1.        ]\n",
            " [-1.         -1.         -1.         -1.         -1.         -1.\n",
            "  -1.         -1.         -1.         -1.         -1.         -1.\n",
            "  -1.         -1.         -1.         -1.         -1.         -1.\n",
            "  -1.         -1.         -1.         -1.         -1.         -1.\n",
            "  -1.         -1.         -1.         -1.        ]]\n"
          ]
        }
      ]
    },
    {
      "cell_type": "markdown",
      "source": [
        "The label makes sense. The feature vector not so much."
      ],
      "metadata": {
        "id": "D7pd-jWYGNPW"
      }
    },
    {
      "cell_type": "code",
      "source": [
        "# Since our data are handwritten digits, let's display the data\n",
        "# so that we can see it.\n",
        "\n",
        "# pick an element to display\n",
        "index = 12\n",
        "img = X_train[index]\n",
        "label = y_train[index]\n",
        "#img = img.reshape((28, 28))\n",
        "\n",
        "# Plot it along with its label\n",
        "plt.title('The label is {label}'.format(label=label))\n",
        "plt.imshow(img, cmap='gray')\n",
        "plt.show()"
      ],
      "metadata": {
        "colab": {
          "base_uri": "https://localhost:8080/",
          "height": 452
        },
        "id": "vbDDhNDHFNHZ",
        "outputId": "795fa8de-009c-4fb4-805e-008d1ace768d"
      },
      "execution_count": null,
      "outputs": [
        {
          "output_type": "display_data",
          "data": {
            "text/plain": [
              "<Figure size 640x480 with 1 Axes>"
            ],
            "image/png": "[encoded data removed]"
          },
          "metadata": {}
        }
      ]
    },
    {
      "cell_type": "markdown",
      "source": [
        "## How images are stored: Pixel intensities"
      ],
      "metadata": {
        "id": "fmxX_AUmlO8S"
      }
    },
    {
      "cell_type": "code",
      "source": [
        "image_np = (img.squeeze() * 255).astype(int)\n",
        "\n",
        "# Plot the image with pixel intensities\n",
        "plt.figure(figsize=(10, 10))\n",
        "for i in range(image_np.shape[0]):\n",
        "    for j in range(image_np.shape[1]):\n",
        "        plt.text(j, i, str(image_np[i, j]), va='center', ha='center', fontsize=8, color=\"black\")\n",
        "\n",
        "plt.imshow(image_np, cmap=\"gray\", interpolation=\"none\")\n",
        "plt.axis(\"off\")\n",
        "plt.show()\n"
      ],
      "metadata": {
        "colab": {
          "base_uri": "https://localhost:8080/",
          "height": 783
        },
        "id": "uaCwzOw8lB_a",
        "outputId": "19e2ca8c-cc8f-4a66-a337-54fcff9216cc"
      },
      "execution_count": null,
      "outputs": [
        {
          "output_type": "display_data",
          "data": {
            "text/plain": [
              "<Figure size 1000x1000 with 1 Axes>"
            ],
            "image/png": "[encoded data removed]"
          },
          "metadata": {}
        }
      ]
    },
    {
      "cell_type": "markdown",
      "source": [
        "# Decision Trees\n",
        "We will now train a decision tree to do automatic digit recognition."
      ],
      "metadata": {
        "id": "D9rUHS6LGcjp"
      }
    },
    {
      "cell_type": "code",
      "source": [
        "X_train = X_train.reshape((X_train.shape[0], -1))\n",
        "X_test = X_test.reshape((X_test.shape[0], -1))\n"
      ],
      "metadata": {
        "id": "Yku_bsKEl0yo"
      },
      "execution_count": null,
      "outputs": []
    },
    {
      "cell_type": "code",
      "source": [
        "X_train[0]"
      ],
      "metadata": {
        "colab": {
          "base_uri": "https://localhost:8080/"
        },
        "id": "DqBnIWw2l796",
        "outputId": "adcb0870-ddf6-4812-be3f-fb20742b457c"
      },
      "execution_count": null,
      "outputs": [
        {
          "output_type": "execute_result",
          "data": {
            "text/plain": [
              "array([-1.        , -1.        , -1.        , -1.        , -1.        ,\n",
              "       -1.        , -1.        , -1.        , -1.        , -1.        ,\n",
              "       -1.        , -1.        , -1.        , -1.        , -1.        ,\n",
              "       -1.        , -1.        , -1.        , -1.        , -1.        ,\n",
              "       -1.        , -1.        , -1.        , -1.        , -1.        ,\n",
              "       -1.        , -1.        , -1.        , -1.        , -1.        ,\n",
              "       -1.        , -1.        , -1.        , -1.        , -1.        ,\n",
              "       -1.        , -1.        , -1.        , -1.        , -1.        ,\n",
              "       -1.        , -1.        , -1.        , -1.        , -1.        ,\n",
              "       -1.        , -1.        , -1.        , -1.        , -1.        ,\n",
              "       -1.        , -1.        , -1.        , -1.        , -1.        ,\n",
              "       -1.        , -1.        , -1.        , -1.        , -1.        ,\n",
              "       -1.        , -1.        , -1.        , -1.        , -1.        ,\n",
              "       -1.        , -1.        , -1.        , -1.        , -1.        ,\n",
              "       -1.        , -1.        , -1.        , -1.        , -1.        ,\n",
              "       -1.        , -1.        , -1.        , -1.        , -1.        ,\n",
              "       -1.        , -1.        , -1.        , -1.        , -1.        ,\n",
              "       -1.        , -1.        , -1.        , -1.        , -1.        ,\n",
              "       -1.        , -1.        , -1.        , -1.        , -1.        ,\n",
              "       -1.        , -1.        , -1.        , -1.        , -1.        ,\n",
              "       -1.        , -1.        , -1.        , -1.        , -1.        ,\n",
              "       -1.        , -1.        , -1.        , -1.        , -1.        ,\n",
              "       -1.        , -1.        , -1.        , -1.        , -1.        ,\n",
              "       -1.        , -1.        , -1.        , -1.        , -1.        ,\n",
              "       -1.        , -1.        , -1.        , -0.32549018,  0.81960785,\n",
              "        0.2313726 , -0.41960782, -1.        , -1.        , -1.        ,\n",
              "       -1.        , -1.        , -1.        , -1.        , -1.        ,\n",
              "       -1.        , -1.        , -1.        , -1.        , -1.        ,\n",
              "       -1.        , -1.        , -1.        , -1.        , -1.        ,\n",
              "       -1.        , -1.        , -1.        , -1.        , -1.        ,\n",
              "       -1.        , -0.24705881,  0.9137255 ,  0.99215686,  0.99215686,\n",
              "        0.4666667 , -0.8039216 , -1.        , -1.        , -1.        ,\n",
              "       -1.        , -1.        , -1.        , -1.        , -1.        ,\n",
              "       -1.        , -1.        , -1.        , -1.        , -1.        ,\n",
              "       -1.        , -1.        , -1.        , -1.        , -1.        ,\n",
              "       -1.        , -1.        , -1.        , -1.        , -1.        ,\n",
              "       -1.        ,  0.15294123,  0.8980392 ,  0.99215686,  0.9529412 ,\n",
              "       -0.36470586, -1.        , -1.        , -1.        , -1.        ,\n",
              "       -1.        , -1.        , -1.        , -1.        , -1.        ,\n",
              "       -1.        , -1.        , -1.        , -1.        , -1.        ,\n",
              "       -1.        , -1.        , -1.        , -1.        , -1.        ,\n",
              "       -1.        , -1.        , -1.        , -1.        , -1.        ,\n",
              "       -0.7647059 ,  0.23921573,  0.96862745,  0.92156863, -0.42745095,\n",
              "       -1.        , -1.        , -1.        , -1.        , -1.        ,\n",
              "       -1.        , -1.        , -1.        , -1.        , -1.        ,\n",
              "       -1.        , -1.        , -1.        , -1.        , -1.        ,\n",
              "       -1.        , -1.        , -1.        , -1.        , -1.        ,\n",
              "       -1.        , -1.        , -1.        , -1.        , -1.        ,\n",
              "        0.6862745 ,  0.99215686,  0.01176476, -1.        , -1.        ,\n",
              "       -1.        , -1.        , -1.        , -1.        , -1.        ,\n",
              "       -1.        , -1.        , -1.        , -1.        , -1.        ,\n",
              "       -1.        , -1.        , -1.        , -1.        , -1.        ,\n",
              "       -1.        , -1.        , -1.        , -1.        , -1.        ,\n",
              "       -1.        , -1.        , -1.        ,  0.6862745 ,  0.99215686,\n",
              "        0.01176476, -1.        , -1.        , -1.        , -1.        ,\n",
              "       -1.        , -1.        , -1.        , -1.        , -1.        ,\n",
              "       -1.        , -1.        , -1.        , -1.        , -1.        ,\n",
              "       -1.        , -1.        , -1.        , -1.        , -1.        ,\n",
              "       -1.        , -1.        , -1.        , -1.        , -0.9843137 ,\n",
              "        0.16078436,  0.9137255 ,  0.8117647 , -0.6313726 , -1.        ,\n",
              "       -1.        , -1.        , -1.        , -1.        , -1.        ,\n",
              "       -1.        , -1.        , -1.        , -1.        , -1.        ,\n",
              "       -1.        , -1.        , -1.        , -1.        , -1.        ,\n",
              "       -1.        , -1.        , -1.        , -1.        , -1.        ,\n",
              "       -0.8745098 , -0.21568626,  0.73333335,  0.99215686,  0.8039216 ,\n",
              "       -0.654902  , -1.        , -1.        , -1.        , -1.        ,\n",
              "       -1.        , -1.        , -1.        , -1.        , -1.        ,\n",
              "       -1.        , -1.        , -1.        , -1.        , -1.        ,\n",
              "       -1.        , -1.        , -1.        , -1.        , -1.        ,\n",
              "       -0.6156863 ,  0.3176471 ,  0.09803927,  0.52156866,  0.99215686,\n",
              "        0.99215686,  0.52156866, -0.62352943, -1.        , -1.        ,\n",
              "       -1.        , -1.        , -1.        , -1.        , -1.        ,\n",
              "       -1.        , -1.        , -1.        , -1.        , -1.        ,\n",
              "       -1.        , -1.        , -1.        , -1.        , -1.        ,\n",
              "       -1.        , -1.        , -1.        ,  0.6392157 ,  0.99215686,\n",
              "        0.99215686,  0.99215686,  0.99215686,  0.9607843 , -0.9843137 ,\n",
              "       -1.        , -1.        , -1.        , -1.        , -1.        ,\n",
              "       -1.        , -1.        , -1.        , -1.        , -1.        ,\n",
              "       -1.        , -1.        , -1.        , -1.        , -1.        ,\n",
              "       -1.        , -1.        , -1.        , -1.        , -1.        ,\n",
              "       -1.        , -0.79607844, -0.03529412,  0.1686275 ,  0.4666667 ,\n",
              "        0.9764706 ,  0.99215686,  0.427451  , -0.8666667 , -1.        ,\n",
              "       -1.        , -1.        , -1.        , -1.        , -1.        ,\n",
              "       -1.        , -1.        , -1.        , -1.        , -1.        ,\n",
              "       -1.        , -1.        , -1.        , -1.        , -1.        ,\n",
              "       -1.        , -1.        , -1.        , -1.        , -1.        ,\n",
              "       -1.        , -1.        , -1.        , -0.40392154,  0.90588236,\n",
              "        0.99215686,  0.32549024, -0.84313726, -1.        , -1.        ,\n",
              "       -1.        , -1.        , -1.        , -1.        , -1.        ,\n",
              "       -1.        , -1.        , -1.        , -1.        , -1.        ,\n",
              "       -1.        , -1.        , -1.        , -1.        , -1.        ,\n",
              "       -1.        , -1.        , -1.        , -1.        , -1.        ,\n",
              "       -1.        , -1.        , -0.40392154,  0.99215686,  0.99215686,\n",
              "       -0.3333333 , -1.        , -1.        , -1.        , -1.        ,\n",
              "       -1.        , -1.        , -1.        , -1.        , -1.        ,\n",
              "       -1.        , -1.        , -1.        , -1.        , -1.        ,\n",
              "       -1.        , -1.        , -1.        , -1.        , -1.        ,\n",
              "       -1.        , -1.        , -1.        , -1.        , -1.        ,\n",
              "       -0.9843137 ,  0.28627455,  0.99215686,  0.33333337, -0.92941177,\n",
              "       -1.        , -1.        , -1.        , -1.        , -1.        ,\n",
              "       -1.        , -1.        , -1.        , -1.        , -1.        ,\n",
              "       -1.        , -1.        , -1.        , -1.        , -1.        ,\n",
              "       -1.        , -1.        , -1.        , -1.        , -1.        ,\n",
              "       -1.        , -1.        , -1.        , -1.        , -0.75686276,\n",
              "        0.84313726,  0.99215686, -0.38039213, -1.        , -1.        ,\n",
              "       -1.        , -1.        , -1.        , -1.        , -1.        ,\n",
              "       -1.        , -1.        , -1.        , -1.        , -1.        ,\n",
              "       -1.        , -1.        , -1.        , -1.        , -1.        ,\n",
              "       -1.        , -1.        , -1.        , -1.        , -1.        ,\n",
              "       -1.        , -1.        , -0.8509804 ,  0.7882353 ,  0.99215686,\n",
              "       -0.5372549 , -1.        , -1.        , -1.        , -1.        ,\n",
              "       -1.        , -1.        , -1.        , -1.        , -1.        ,\n",
              "       -1.        , -1.        , -1.        , -1.        , -1.        ,\n",
              "       -1.        , -1.        , -1.        , -1.        , -1.        ,\n",
              "       -0.79607844, -0.9843137 , -1.        , -1.        , -0.99215686,\n",
              "       -0.00392157,  0.99215686,  0.5921569 , -0.8901961 , -1.        ,\n",
              "       -1.        , -1.        , -1.        , -1.        , -1.        ,\n",
              "       -1.        , -1.        , -1.        , -1.        , -1.        ,\n",
              "       -1.        , -1.        , -1.        , -1.        , -1.        ,\n",
              "       -1.        , -1.        , -1.        ,  0.45098042, -0.29411763,\n",
              "       -1.        , -0.85882354,  0.34901965,  0.99215686,  0.9529412 ,\n",
              "       -0.5686275 , -1.        , -1.        , -1.        , -1.        ,\n",
              "       -1.        , -1.        , -1.        , -1.        , -1.        ,\n",
              "       -1.        , -1.        , -1.        , -1.        , -1.        ,\n",
              "       -1.        , -1.        , -1.        , -1.        , -1.        ,\n",
              "       -1.        ,  0.45098042,  0.9607843 ,  0.92156863,  0.9372549 ,\n",
              "        0.99215686,  0.9137255 , -0.38039213, -1.        , -1.        ,\n",
              "       -1.        , -1.        , -1.        , -1.        , -1.        ,\n",
              "       -1.        , -1.        , -1.        , -1.        , -1.        ,\n",
              "       -1.        , -1.        , -1.        , -1.        , -1.        ,\n",
              "       -1.        , -1.        , -1.        , -1.        , -0.11372548,\n",
              "        0.6392157 ,  0.99215686,  0.99215686,  0.3411765 , -0.67058825,\n",
              "       -1.        , -1.        , -1.        , -1.        , -1.        ,\n",
              "       -1.        , -1.        , -1.        , -1.        , -1.        ,\n",
              "       -1.        , -1.        , -1.        , -1.        , -1.        ,\n",
              "       -1.        , -1.        , -1.        , -1.        , -1.        ,\n",
              "       -1.        , -1.        , -1.        , -1.        , -1.        ,\n",
              "       -1.        , -1.        , -1.        , -1.        , -1.        ,\n",
              "       -1.        , -1.        , -1.        , -1.        , -1.        ,\n",
              "       -1.        , -1.        , -1.        , -1.        , -1.        ,\n",
              "       -1.        , -1.        , -1.        , -1.        , -1.        ,\n",
              "       -1.        , -1.        , -1.        , -1.        , -1.        ,\n",
              "       -1.        , -1.        , -1.        , -1.        , -1.        ,\n",
              "       -1.        , -1.        , -1.        , -1.        , -1.        ,\n",
              "       -1.        , -1.        , -1.        , -1.        , -1.        ,\n",
              "       -1.        , -1.        , -1.        , -1.        , -1.        ,\n",
              "       -1.        , -1.        , -1.        , -1.        , -1.        ,\n",
              "       -1.        , -1.        , -1.        , -1.        , -1.        ,\n",
              "       -1.        , -1.        , -1.        , -1.        , -1.        ,\n",
              "       -1.        , -1.        , -1.        , -1.        , -1.        ,\n",
              "       -1.        , -1.        , -1.        , -1.        , -1.        ,\n",
              "       -1.        , -1.        , -1.        , -1.        , -1.        ,\n",
              "       -1.        , -1.        , -1.        , -1.        , -1.        ,\n",
              "       -1.        , -1.        , -1.        , -1.        , -1.        ,\n",
              "       -1.        , -1.        , -1.        , -1.        , -1.        ,\n",
              "       -1.        , -1.        , -1.        , -1.        , -1.        ,\n",
              "       -1.        , -1.        , -1.        , -1.        ], dtype=float32)"
            ]
          },
          "metadata": {},
          "execution_count": 19
        }
      ]
    },
    {
      "cell_type": "code",
      "source": [
        "# There are 60,000 training data points. Let's just pick a few of them.\n",
        "# We've already shuffled, so it's safe to just pick the first ones.\n",
        "N_tr = 20\n",
        "train_samples = N_tr\n",
        "X_tr = X_train[:N_tr,:]\n",
        "y_tr = y_train[:N_tr]\n",
        "# check size\n",
        "X_tr.shape"
      ],
      "metadata": {
        "colab": {
          "base_uri": "https://localhost:8080/"
        },
        "id": "Iz68jutIGVkP",
        "outputId": "7bf7251a-f378-4a87-da26-7c6147868335"
      },
      "execution_count": null,
      "outputs": [
        {
          "output_type": "execute_result",
          "data": {
            "text/plain": [
              "(20, 784)"
            ]
          },
          "metadata": {},
          "execution_count": 20
        }
      ]
    },
    {
      "cell_type": "code",
      "source": [
        "# We now create a decision tree.\n",
        "# The only parameter we pass is the max depth\n",
        "decision_tree = tree.DecisionTreeClassifier(max_depth=5)\n"
      ],
      "metadata": {
        "id": "CAvPbujiHxiw"
      },
      "execution_count": null,
      "outputs": []
    },
    {
      "cell_type": "code",
      "source": [
        "# Now we actually train it -- this is the computationally intensive step\n",
        "decision_tree.fit(X_tr, y_tr)\n",
        "\n",
        "# This is what it looks like\n",
        "tree.plot_tree(decision_tree)\n",
        "\n",
        "# And this is its accuracy on the training data\n",
        "train_score = decision_tree.score(X_tr,y_tr)\n",
        "print(\"Train score: %.4f\" % train_score)\n",
        "\n"
      ],
      "metadata": {
        "colab": {
          "base_uri": "https://localhost:8080/",
          "height": 423
        },
        "id": "iNvpHi81Hypj",
        "outputId": "95266a22-bf48-4084-b122-199bd69b6231"
      },
      "execution_count": null,
      "outputs": [
        {
          "output_type": "stream",
          "name": "stdout",
          "text": [
            "Train score: 1.0000\n"
          ]
        },
        {
          "output_type": "display_data",
          "data": {
            "text/plain": [
              "<Figure size 640x480 with 1 Axes>"
            ],
            "image/png": "[encoded data removed]"
          },
          "metadata": {}
        }
      ]
    },
    {
      "cell_type": "markdown",
      "source": [
        "# Visualizing Errors\n",
        "It's useful again to visualize some examples, especially where the prediction was wrong."
      ],
      "metadata": {
        "id": "AHtoUGzeYFyd"
      }
    },
    {
      "cell_type": "code",
      "source": [
        "# pick an element to display from the test images\n",
        "index = 13\n",
        "img = X_test[index]\n",
        "y_true = y_test[index]\n",
        "img = img.reshape((28, 28))\n",
        "\n",
        "# get the predicted label\n",
        "y_hat = decision_tree.predict(X_test[index].reshape(1,-1))\n",
        "\n",
        "# Plot it along with its label\n",
        "plt.title('True label is {label_t}, Pred label is {label_p}'.format(label_t=y_true,label_p = y_hat))\n",
        "plt.imshow(img, cmap='gray')\n",
        "plt.show()\n",
        "y_hat"
      ],
      "metadata": {
        "colab": {
          "base_uri": "https://localhost:8080/",
          "height": 469
        },
        "id": "rmawAn_kYIxl",
        "outputId": "c1472d5b-3120-410a-d7b5-723e6d5011e1"
      },
      "execution_count": null,
      "outputs": [
        {
          "output_type": "display_data",
          "data": {
            "text/plain": [
              "<Figure size 640x480 with 1 Axes>"
            ],
            "image/png": "[encoded data removed]"
          },
          "metadata": {}
        },
        {
          "output_type": "execute_result",
          "data": {
            "text/plain": [
              "array([3])"
            ]
          },
          "metadata": {},
          "execution_count": 23
        }
      ]
    },
    {
      "cell_type": "markdown",
      "source": [
        "# Training Error and Testing Error vs Depth"
      ],
      "metadata": {
        "id": "woqHdE-pdi2V"
      }
    },
    {
      "cell_type": "code",
      "source": [
        "# Again a train-test split\n",
        "#train_samples = 50000\n",
        "#X_train, X_test, y_train, y_test = train_test_split(\n",
        "#    X, y, train_size=train_samples, test_size=70000-train_samples, random_state=0)\n",
        "#scaler = StandardScaler()\n",
        "#X_train = scaler.fit_transform(X_train)\n",
        "#X_test = scaler.transform(X_test)\n",
        "\n",
        "training_scores = []\n",
        "testing_scores = []\n",
        "depth_values = range(15)\n",
        "for depth in depth_values:\n",
        "    dt = tree.DecisionTreeClassifier(max_depth=depth+1, criterion='gini')\n",
        "    dt.fit(X_train,y_train)\n",
        "    train_score = dt.score(X_train,y_train)\n",
        "    test_score = dt.score(X_test, y_test)\n",
        "    training_scores.append(train_score)\n",
        "    testing_scores.append(test_score)"
      ],
      "metadata": {
        "id": "OJjwsf-1YMBD"
      },
      "execution_count": null,
      "outputs": []
    },
    {
      "cell_type": "code",
      "source": [
        "print('These are the training scores:',training_scores)\n",
        "print('These are the testing scores:',testing_scores)"
      ],
      "metadata": {
        "colab": {
          "base_uri": "https://localhost:8080/"
        },
        "id": "uW1N_rCudlJU",
        "outputId": "84c60af9-8037-4d77-dab1-6cf2bd9d4090"
      },
      "execution_count": null,
      "outputs": [
        {
          "output_type": "stream",
          "name": "stdout",
          "text": [
            "These are the training scores: [0.1982, 0.34181666666666666, 0.49151666666666666, 0.5898833333333333, 0.6722666666666667, 0.73825, 0.7866, 0.8262666666666667, 0.8665166666666667, 0.8995333333333333, 0.9276833333333333, 0.94915, 0.9649, 0.97695, 0.9844166666666667]\n",
            "These are the testing scores: [0.1994, 0.3447, 0.4953, 0.5957, 0.6747, 0.7416, 0.7853, 0.8186, 0.8501, 0.8663, 0.8741, 0.8778, 0.881, 0.8815, 0.8811]\n"
          ]
        }
      ]
    },
    {
      "cell_type": "code",
      "source": [
        "# Easier to see them on a graph, vs depth of tree\n",
        "import matplotlib.pyplot as plt\n",
        "fig, ax = plt.subplots()  # Create a figure containing a single axes.\n",
        "ax.plot(training_scores,label='training')\n",
        "ax.plot(testing_scores,label='testing')\n",
        "ax.set_xlabel('tree depth')  # Add an x-label to the axes.\n",
        "ax.set_ylabel('accuracy')  # Add a y-label to the axes.\n",
        "ax.set_title(\"Train vs Test\")  # Add a title to the axes.\n",
        "ax.legend();  # Add a legend."
      ],
      "metadata": {
        "colab": {
          "base_uri": "https://localhost:8080/",
          "height": 472
        },
        "id": "83vl2_zDdsVr",
        "outputId": "284fb799-1b16-43e5-9e84-b46eb5fdaabd"
      },
      "execution_count": null,
      "outputs": [
        {
          "output_type": "display_data",
          "data": {
            "text/plain": [
              "<Figure size 640x480 with 1 Axes>"
            ],
            "image/png": "[encoded data removed]"
          },
          "metadata": {}
        }
      ]
    },
    {
      "cell_type": "markdown",
      "source": [
        "## Comments / Thoughts?"
      ],
      "metadata": {
        "id": "Qbm4amjPoRcx"
      }
    },
    {
      "cell_type": "code",
      "source": [],
      "metadata": {
        "id": "vWZ-nEU0d5RE"
      },
      "execution_count": null,
      "outputs": []
    },
    {
      "cell_type": "markdown",
      "source": [
        "# Let's try using Bagging\n",
        "\n",
        "You can run the below if you'd like. We will return to it a little later when we are discussing Ensembling, Bagging, Boosting and Random Forests.\n",
        "\n",
        "-------\n",
        "\n",
        "1. Make bootstrapped copies of the data.\n",
        "2. Train trees on the copies of the data\n",
        "3. Average"
      ],
      "metadata": {
        "id": "l62ju7T6UHpY"
      }
    },
    {
      "cell_type": "code",
      "source": [
        "# write a function that takes several models\n",
        "# evaluates all of them on X_test and returns\n",
        "# the label that is the majority vote\n",
        "from scipy.stats import mode\n",
        "\n",
        "def ensemble_predict(models, X_test):\n",
        "    predictions = [model.predict(X_test) for model in models]\n",
        "    return mode(predictions, axis=0)[0]"
      ],
      "metadata": {
        "id": "cg63a3pIWPmE"
      },
      "execution_count": null,
      "outputs": []
    },
    {
      "cell_type": "code",
      "source": [
        "M  = 30\n",
        "models = []\n",
        "accuracies_test = []\n",
        "\n",
        "# fix random seed\n",
        "np.random.seed(42)\n",
        "\n",
        "for i in range(M):\n",
        "    print(i)\n",
        "    bootstrapped_indices = np.random.choice(X_train.shape[0], size=X_train.shape[0], replace=True)\n",
        "    X_train_boot = X_train[bootstrapped_indices]\n",
        "    y_train_boot = y_train[bootstrapped_indices]\n",
        "    model = tree.DecisionTreeClassifier(max_depth=10)\n",
        "    model.fit(X_train_boot, y_train_boot)\n",
        "    models.append(model)\n",
        "    ensemble_labels = ensemble_predict(models, X_test)\n",
        "    accuracy = np.mean(ensemble_labels == y_test)\n",
        "    accuracies_test.append(accuracy)\n",
        "    print(accuracy)"
      ],
      "metadata": {
        "colab": {
          "base_uri": "https://localhost:8080/"
        },
        "id": "_gsHPq5DUKeT",
        "outputId": "525a6ea7-c3c5-484b-ca39-1ad295f718d6"
      },
      "execution_count": null,
      "outputs": [
        {
          "output_type": "stream",
          "name": "stdout",
          "text": [
            "0\n",
            "0.8557\n",
            "1\n",
            "0.8582\n",
            "2\n",
            "0.8935\n",
            "3\n",
            "0.9059\n",
            "4\n",
            "0.9091\n",
            "5\n",
            "0.9162\n",
            "6\n",
            "0.9182\n",
            "7\n",
            "0.9224\n",
            "8\n",
            "0.9242\n",
            "9\n",
            "0.9263\n",
            "10\n",
            "0.9278\n",
            "11\n",
            "0.9298\n",
            "12\n",
            "0.9296\n",
            "13\n",
            "0.9305\n",
            "14\n",
            "0.9293\n",
            "15\n",
            "0.9314\n",
            "16\n",
            "0.9303\n",
            "17\n",
            "0.9325\n",
            "18\n",
            "0.9321\n",
            "19\n",
            "0.9326\n",
            "20\n",
            "0.9325\n",
            "21\n",
            "0.9333\n",
            "22\n",
            "0.9325\n",
            "23\n",
            "0.9326\n",
            "24\n",
            "0.9328\n",
            "25\n",
            "0.9323\n",
            "26\n",
            "0.9319\n",
            "27\n",
            "0.9319\n",
            "28\n",
            "0.9313\n",
            "29\n",
            "0.9321\n"
          ]
        }
      ]
    },
    {
      "cell_type": "markdown",
      "source": [
        "### Now let's try random forests"
      ],
      "metadata": {
        "id": "27K3KGNXaXkv"
      }
    },
    {
      "cell_type": "code",
      "source": [
        "# random forest\n",
        "from sklearn.ensemble import RandomForestClassifier\n",
        "\n",
        "rf = RandomForestClassifier(n_estimators=100, max_depth = 10, random_state=42)\n",
        "rf.fit(X_train, y_train)\n",
        "labels = rf.predict(X_test)\n",
        "accuracy = np.mean(labels == y_test)\n",
        "print(accuracy)"
      ],
      "metadata": {
        "colab": {
          "base_uri": "https://localhost:8080/"
        },
        "id": "nz7KxSYtaZSh",
        "outputId": "7c9ac6da-a63d-426d-9a3f-50a16bee7ecc"
      },
      "execution_count": null,
      "outputs": [
        {
          "output_type": "stream",
          "name": "stdout",
          "text": [
            "0.9488\n"
          ]
        }
      ]
    }
  ]
}